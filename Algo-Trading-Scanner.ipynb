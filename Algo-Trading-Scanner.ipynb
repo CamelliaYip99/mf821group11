{
 "cells": [
  {
   "cell_type": "code",
   "execution_count": 1,
   "metadata": {},
   "outputs": [],
   "source": [
    "from ibapi.client import EClient\n",
    "from ibapi.wrapper import EWrapper\n",
    "from ibapi.scanner import ScannerSubscription\n",
    "from ib_insync import *\n",
    "import time\n",
    "import threading\n",
    "\n",
    "from collections import deque"
   ]
  },
  {
   "cell_type": "markdown",
   "metadata": {},
   "source": [
    "## Stock Scanner\n",
    "- NOTE: this file should only be ran during market hours - there is no way to run this using historical data\n",
    "- File selects top 5 stocks (this number can be changed later, currently hardcoded) based off of top percent gain metric (also can be changed to a different metric if needed)\n",
    "- File then shows user the current top 5 stocks, with a refresh of the top percent gain metric happening in 30 second intervals\n",
    "- User will be shown only the top 5 stocks at a time, and can select \"n\" if they are not satisfied with the picked stocks. Program will automatically run with updated stocks every 30 seconds and will terminate when user types in \"y\", indicating they like the stocks displayed and want to trade those stocks\n",
    "- File will then locally save the user's selected stocks"
   ]
  },
  {
   "cell_type": "code",
   "execution_count": 2,
   "metadata": {},
   "outputs": [],
   "source": [
    "class TradeApp(EWrapper, EClient):\n",
    "    \n",
    "    def __init__(self):\n",
    "        EClient.__init__(self,self)\n",
    "        self.stockStack = deque()\n",
    "    \n",
    "    def scannerData(self, reqId, rank, contractDetails, distance, benchmark, projection, legsStr):\n",
    "        super().scannerData(reqId, rank, contractDetails, distance, benchmark, projection, legsStr)\n",
    "        getSymbol = contractDetails.contract.symbol\n",
    "        self.stockStack.append(getSymbol)"
   ]
  },
  {
   "cell_type": "code",
   "execution_count": 3,
   "metadata": {},
   "outputs": [],
   "source": [
    "def usStkScan(asset_type=\"STK\",asset_loc=\"STK.US.MAJOR\",scan_code = \"TOP_PERC_GAIN\"):\n",
    "    scanSub = ScannerSubscription()\n",
    "    scanSub.numberOfRows = 5\n",
    "    scanSub.abovePrice = 10\n",
    "    scanSub.belowPrice = 200\n",
    "    scanSub.aboveVolume = 1000000\n",
    "    scanSub.instrument = asset_type\n",
    "    scanSub.locationType = asset_loc\n",
    "    scanSub.scanCode = scan_code\n",
    "    return scanSub"
   ]
  },
  {
   "cell_type": "code",
   "execution_count": 4,
   "metadata": {},
   "outputs": [],
   "source": [
    "def websocket_con():\n",
    "    app.run()"
   ]
  },
  {
   "cell_type": "code",
   "execution_count": 5,
   "metadata": {},
   "outputs": [
    {
     "name": "stderr",
     "output_type": "stream",
     "text": [
      "ERROR -1 2104 Market data farm connection is OK:hfarm\n",
      "ERROR -1 2104 Market data farm connection is OK:usfarm.nj\n",
      "ERROR -1 2104 Market data farm connection is OK:jfarm\n",
      "ERROR -1 2104 Market data farm connection is OK:usfuture\n",
      "ERROR -1 2104 Market data farm connection is OK:cashfarm\n",
      "ERROR -1 2104 Market data farm connection is OK:eufarmnj\n",
      "ERROR -1 2104 Market data farm connection is OK:usfarm\n",
      "ERROR -1 2106 HMDS data farm connection is OK:euhmds\n",
      "ERROR -1 2106 HMDS data farm connection is OK:fundfarm\n",
      "ERROR -1 2106 HMDS data farm connection is OK:ushmds\n",
      "ERROR -1 2158 Sec-def data farm connection is OK:secdefil\n"
     ]
    }
   ],
   "source": [
    "app = TradeApp()\n",
    "app.connect(host = '127.0.0.1', port = 7497, clientId = 23)\n",
    "con_thread = threading.Thread(target=websocket_con)\n",
    "con_thread.start()\n",
    "time.sleep(1)"
   ]
  },
  {
   "cell_type": "code",
   "execution_count": 7,
   "metadata": {},
   "outputs": [],
   "source": [
    "app.reqScannerSubscription(1,usStkScan(),[],[])\n",
    "time.sleep(30)"
   ]
  },
  {
   "cell_type": "code",
   "execution_count": null,
   "metadata": {},
   "outputs": [
    {
     "name": "stderr",
     "output_type": "stream",
     "text": [
      "ERROR 1 322 Error processing request.-'cv' : cause - Duplicate ticker ID for API scanner subscription\n"
     ]
    },
    {
     "name": "stdout",
     "output_type": "stream",
     "text": [
      "deque(['NUVL', 'RUM', 'DXCM', 'FBC', 'TECL'])\n",
      "5 stocks:  ['TECL', 'FBC', 'DXCM', 'RUM', 'NUVL']\n",
      "Do you wanna trade these 5 stocks? y/nn\n"
     ]
    },
    {
     "name": "stderr",
     "output_type": "stream",
     "text": [
      "ERROR 1 322 Error processing request.-'cv' : cause - Duplicate ticker ID for API scanner subscription\n"
     ]
    },
    {
     "name": "stdout",
     "output_type": "stream",
     "text": [
      "deque(['NUVL', 'RUM', 'DXCM', 'FBC', 'TECL', 'NUVL', 'RUM', 'DXCM', 'FBC', 'TECL'])\n",
      "5 stocks:  ['TECL', 'FBC', 'DXCM', 'RUM', 'NUVL']\n"
     ]
    }
   ],
   "source": [
    "traderLike = False\n",
    "pickedStocks = None\n",
    "\n",
    "while not traderLike:\n",
    "    \n",
    "    app.reqScannerSubscription(1,usStkScan(),[],[]) #append to stack regardless\n",
    "    \n",
    "    viewStocks = app.stockStack #view current stack\n",
    "    print(viewStocks)\n",
    "    currStocks = []\n",
    "    \n",
    "    for i in range(5):\n",
    "        ret = viewStocks.pop()\n",
    "        currStocks.append(ret)\n",
    "    \n",
    "    time.sleep(30)\n",
    "    print(\"5 stocks: \",currStocks)\n",
    "    val = input(\"Do you want to trade these 5 stocks? y/n\")\n",
    "    \n",
    "    if val == \"y\":\n",
    "        traderLike = True\n",
    "        pickedStocks = currStocks\n",
    "        app.disconnect()\n",
    "        print(\"Congrats! Your picked stocks were: \",pickedStocks)\n",
    "        print(\"Happy Trading :)\")\n",
    "        break\n",
    "    \n",
    "    currStocks = [] #reinitialize list to hold the top of stack \n",
    "    "
   ]
  },
  {
   "cell_type": "code",
   "execution_count": null,
   "metadata": {},
   "outputs": [],
   "source": [
    "app.disconnect()"
   ]
  },
  {
   "cell_type": "code",
   "execution_count": null,
   "metadata": {},
   "outputs": [],
   "source": [
    "pickedStocks "
   ]
  },
  {
   "cell_type": "code",
   "execution_count": null,
   "metadata": {},
   "outputs": [],
   "source": []
  }
 ],
 "metadata": {
  "kernelspec": {
   "display_name": "Python 3",
   "language": "python",
   "name": "python3"
  },
  "language_info": {
   "codemirror_mode": {
    "name": "ipython",
    "version": 3
   },
   "file_extension": ".py",
   "mimetype": "text/x-python",
   "name": "python",
   "nbconvert_exporter": "python",
   "pygments_lexer": "ipython3",
   "version": "3.7.4"
  },
  "vscode": {
   "interpreter": {
    "hash": "31f2aee4e71d21fbe5cf8b01ff0e069b9275f58929596ceb00d14d90e3e16cd6"
   }
  }
 },
 "nbformat": 4,
 "nbformat_minor": 2
}
