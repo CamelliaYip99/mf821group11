{
 "cells": [
  {
   "cell_type": "code",
   "execution_count": 1,
   "metadata": {},
   "outputs": [],
   "source": [
    "from ibapi.client import EClient\n",
    "from ibapi.wrapper import EWrapper\n",
    "from ibapi.scanner import ScannerSubscription\n",
    "from ib_insync import *\n",
    "import time\n",
    "import threading\n",
    "\n",
    "from collections import deque"
   ]
  },
  {
   "cell_type": "code",
   "execution_count": 2,
   "metadata": {},
   "outputs": [],
   "source": [
    "class TradeApp(EWrapper, EClient):\n",
    "    \n",
    "    def __init__(self):\n",
    "        EClient.__init__(self,self)\n",
    "        self.stockStack = deque()\n",
    "    \n",
    "    def scannerData(self, reqId, rank, contractDetails, distance, benchmark, projection, legsStr):\n",
    "        super().scannerData(reqId, rank, contractDetails, distance, benchmark, projection, legsStr)\n",
    "        #print(\"ScannerData. ReqId:\",reqId, contractDetails.contract, rank)\n",
    "        #print(\"symbol is: \", contractDetails.contract.symbol)\n",
    "        getSymbol = contractDetails.contract.symbol\n",
    "        self.stockStack.append(getSymbol)"
   ]
  },
  {
   "cell_type": "code",
   "execution_count": 3,
   "metadata": {},
   "outputs": [],
   "source": [
    "def usStkScan(asset_type=\"STK\",asset_loc=\"STK.US.MAJOR\",scan_code = \"TOP_PERC_GAIN\"):\n",
    "    scanSub = ScannerSubscription()\n",
    "    scanSub.numberOfRows = 5\n",
    "    scanSub.abovePrice = 10\n",
    "    scanSub.belowPrice = 200\n",
    "    scanSub.aboveVolume = 1000000\n",
    "    scanSub.instrument = asset_type\n",
    "    scanSub.locationType = asset_loc\n",
    "    scanSub.scanCode = scan_code\n",
    "    return scanSub"
   ]
  },
  {
   "cell_type": "code",
   "execution_count": 4,
   "metadata": {},
   "outputs": [],
   "source": [
    "def websocket_con():\n",
    "    app.run()"
   ]
  },
  {
   "cell_type": "code",
   "execution_count": 5,
   "metadata": {},
   "outputs": [
    {
     "name": "stderr",
     "output_type": "stream",
     "text": [
      "ERROR -1 2104 Market data farm connection is OK:usfarm.nj\n",
      "ERROR -1 2104 Market data farm connection is OK:cashfarm\n",
      "ERROR -1 2104 Market data farm connection is OK:usfarm\n",
      "ERROR -1 2106 HMDS data farm connection is OK:euhmds\n",
      "ERROR -1 2106 HMDS data farm connection is OK:fundfarm\n",
      "ERROR -1 2106 HMDS data farm connection is OK:ushmds\n",
      "ERROR -1 2158 Sec-def data farm connection is OK:secdefil\n"
     ]
    }
   ],
   "source": [
    "app = TradeApp()\n",
    "app.connect(host = '127.0.0.1', port = 7497, clientId = 23)\n",
    "con_thread = threading.Thread(target=websocket_con)\n",
    "con_thread.start()\n",
    "time.sleep(1)\n",
    "# app.reqScannerSubscription(1,usStkScan(),[],[])"
   ]
  },
  {
   "cell_type": "code",
   "execution_count": null,
   "metadata": {},
   "outputs": [],
   "source": [
    "# app.disconnect()"
   ]
  },
  {
   "cell_type": "code",
   "execution_count": 6,
   "metadata": {},
   "outputs": [],
   "source": [
    "# viewStocks = app.stockStack\n",
    "# print(viewStocks)\n",
    "app.reqScannerSubscription(1,usStkScan(),[],[])"
   ]
  },
  {
   "cell_type": "code",
   "execution_count": 7,
   "metadata": {},
   "outputs": [
    {
     "name": "stdout",
     "output_type": "stream",
     "text": [
      "deque(['AEHR', 'SOXS', 'AMBC', 'FNGD', 'LABD'])\n",
      "5 stocks:  ['LABD', 'FNGD', 'AMBC', 'SOXS', 'AEHR']\n"
     ]
    },
    {
     "name": "stderr",
     "output_type": "stream",
     "text": [
      "ERROR 1 322 Error processing request.-'cv' : cause - Duplicate ticker ID for API scanner subscription\n"
     ]
    },
    {
     "name": "stdout",
     "output_type": "stream",
     "text": [
      "Do you wanna trade these 5 stocks? y/nn\n",
      "deque(['AEHR', 'SOXS', 'AMBC', 'FNGD', 'TECS'])\n",
      "5 stocks:  ['TECS', 'FNGD', 'AMBC', 'SOXS', 'AEHR']\n"
     ]
    },
    {
     "name": "stderr",
     "output_type": "stream",
     "text": [
      "ERROR 1 322 Error processing request.-'cv' : cause - Duplicate ticker ID for API scanner subscription\n"
     ]
    },
    {
     "name": "stdout",
     "output_type": "stream",
     "text": [
      "Do you wanna trade these 5 stocks? y/nn\n",
      "deque(['AEHR', 'SOXS', 'AMBC', 'FNGD', 'TECS'])\n",
      "5 stocks:  ['TECS', 'FNGD', 'AMBC', 'SOXS', 'AEHR']\n"
     ]
    },
    {
     "name": "stderr",
     "output_type": "stream",
     "text": [
      "ERROR 1 322 Error processing request.-'cv' : cause - Duplicate ticker ID for API scanner subscription\n"
     ]
    },
    {
     "name": "stdout",
     "output_type": "stream",
     "text": [
      "Do you wanna trade these 5 stocks? y/nn\n",
      "deque(['AEHR', 'SOXS', 'AMBC', 'FNGD', 'TECS'])\n",
      "5 stocks:  ['TECS', 'FNGD', 'AMBC', 'SOXS', 'AEHR']\n"
     ]
    },
    {
     "name": "stderr",
     "output_type": "stream",
     "text": [
      "ERROR 1 322 Error processing request.-'cv' : cause - Duplicate ticker ID for API scanner subscription\n"
     ]
    },
    {
     "name": "stdout",
     "output_type": "stream",
     "text": [
      "Do you wanna trade these 5 stocks? y/nn\n",
      "deque(['AEHR', 'SOXS', 'AMBC', 'FNGD', 'TECS', 'AEHR', 'SOXS', 'AMBC', 'FNGD', 'TECS'])\n",
      "5 stocks:  ['TECS', 'FNGD', 'AMBC', 'SOXS', 'AEHR']\n"
     ]
    },
    {
     "name": "stderr",
     "output_type": "stream",
     "text": [
      "ERROR 1 322 Error processing request.-'cv' : cause - Duplicate ticker ID for API scanner subscription\n"
     ]
    },
    {
     "name": "stdout",
     "output_type": "stream",
     "text": [
      "Do you wanna trade these 5 stocks? y/nn\n",
      "deque(['AEHR', 'SOXS', 'AMBC', 'FNGD', 'TECS'])\n",
      "5 stocks:  ['TECS', 'FNGD', 'AMBC', 'SOXS', 'AEHR']\n"
     ]
    },
    {
     "name": "stderr",
     "output_type": "stream",
     "text": [
      "ERROR 1 322 Error processing request.-'cv' : cause - Duplicate ticker ID for API scanner subscription\n"
     ]
    },
    {
     "name": "stdout",
     "output_type": "stream",
     "text": [
      "Do you wanna trade these 5 stocks? y/nn\n",
      "deque(['AEHR', 'SOXS', 'AMBC', 'FNGD', 'TECS', 'AEHR', 'SOXS', 'AMBC', 'FNGD', 'TECS'])\n",
      "5 stocks:  ['TECS', 'FNGD', 'AMBC', 'SOXS', 'AEHR']\n"
     ]
    },
    {
     "name": "stderr",
     "output_type": "stream",
     "text": [
      "ERROR 1 322 Error processing request.-'cv' : cause - Duplicate ticker ID for API scanner subscription\n"
     ]
    },
    {
     "name": "stdout",
     "output_type": "stream",
     "text": [
      "Do you wanna trade these 5 stocks? y/nn\n",
      "deque(['AEHR', 'SOXS', 'AMBC', 'FNGD', 'TECS'])\n",
      "5 stocks:  ['TECS', 'FNGD', 'AMBC', 'SOXS', 'AEHR']\n"
     ]
    },
    {
     "name": "stderr",
     "output_type": "stream",
     "text": [
      "ERROR 1 322 Error processing request.-'cv' : cause - Duplicate ticker ID for API scanner subscription\n"
     ]
    },
    {
     "name": "stdout",
     "output_type": "stream",
     "text": [
      "Do you wanna trade these 5 stocks? y/nn\n",
      "deque(['AEHR', 'SOXS', 'AMBC', 'FNGD', 'TECS', 'AEHR', 'SOXS', 'AMBC', 'FNGD', 'TECS', 'AEHR', 'SOXS', 'AMBC', 'FNGD', 'TECS'])\n",
      "5 stocks:  ['TECS', 'FNGD', 'AMBC', 'SOXS', 'AEHR']\n"
     ]
    },
    {
     "name": "stderr",
     "output_type": "stream",
     "text": [
      "ERROR 1 322 Error processing request.-'cv' : cause - Duplicate ticker ID for API scanner subscription\n"
     ]
    },
    {
     "name": "stdout",
     "output_type": "stream",
     "text": [
      "Do you wanna trade these 5 stocks? y/nn\n",
      "deque(['AEHR', 'SOXS', 'AMBC', 'FNGD', 'TECS', 'AEHR', 'SOXS', 'AMBC', 'FNGD', 'TECS'])\n",
      "5 stocks:  ['TECS', 'FNGD', 'AMBC', 'SOXS', 'AEHR']\n"
     ]
    },
    {
     "name": "stderr",
     "output_type": "stream",
     "text": [
      "ERROR 1 322 Error processing request.-'cv' : cause - Duplicate ticker ID for API scanner subscription\n"
     ]
    },
    {
     "name": "stdout",
     "output_type": "stream",
     "text": [
      "Do you wanna trade these 5 stocks? y/ny\n",
      "Congrats! Your picked stocks were:  ['TECS', 'FNGD', 'AMBC', 'SOXS', 'AEHR']\n",
      "Happy Trading :)\n"
     ]
    }
   ],
   "source": [
    "traderLike = False\n",
    "pickedStocks = None\n",
    "\n",
    "while not traderLike:\n",
    "    \n",
    "    app.reqScannerSubscription(1,usStkScan(),[],[]) #append to stack regardless\n",
    "    \n",
    "    viewStocks = app.stockStack #view current stack\n",
    "    print(viewStocks)\n",
    "    currStocks = []\n",
    "    \n",
    "    for i in range(5):\n",
    "        ret = viewStocks.pop()\n",
    "        currStocks.append(ret)\n",
    "    \n",
    "    print(\"5 stocks: \",currStocks)\n",
    "    val = input(\"Do you wanna trade these 5 stocks? y/n\")\n",
    "    \n",
    "    if val == \"y\":\n",
    "        traderLike = True\n",
    "        pickedStocks = currStocks\n",
    "        app.disconnect()\n",
    "        print(\"Congrats! Your picked stocks were: \",pickedStocks)\n",
    "        print(\"Happy Trading :)\")\n",
    "        break\n",
    "    \n",
    "    currStocks = [] #reinitialize list to hold the top of stack \n",
    "    "
   ]
  },
  {
   "cell_type": "code",
   "execution_count": null,
   "metadata": {},
   "outputs": [],
   "source": [
    "app.disconnect()"
   ]
  },
  {
   "cell_type": "code",
   "execution_count": null,
   "metadata": {},
   "outputs": [],
   "source": [
    "pickedStocks "
   ]
  },
  {
   "cell_type": "code",
   "execution_count": null,
   "metadata": {},
   "outputs": [],
   "source": []
  }
 ],
 "metadata": {
  "kernelspec": {
   "display_name": "Python 3",
   "language": "python",
   "name": "python3"
  },
  "language_info": {
   "codemirror_mode": {
    "name": "ipython",
    "version": 3
   },
   "file_extension": ".py",
   "mimetype": "text/x-python",
   "name": "python",
   "nbconvert_exporter": "python",
   "pygments_lexer": "ipython3",
   "version": "3.7.4"
  }
 },
 "nbformat": 4,
 "nbformat_minor": 2
}
